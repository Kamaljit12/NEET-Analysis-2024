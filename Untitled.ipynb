{
 "cells": [
  {
   "cell_type": "code",
   "execution_count": 18,
   "id": "ee6c63ea-301a-4243-861c-b659905e2453",
   "metadata": {},
   "outputs": [],
   "source": [
    "import pandas as pd\n",
    "import numpy as np\n",
    "import matplotlib.pyplot as plt\n",
    "import seaborn as sns"
   ]
  },
  {
   "cell_type": "code",
   "execution_count": 19,
   "id": "ab12843e-c348-4d1e-a2f3-2b30f3670dc4",
   "metadata": {},
   "outputs": [],
   "source": [
    "centers = pd.read_csv('csv_file/centers.csv')\n",
    "result = pd.read_csv(\"csv_file/NEET_2024_RESULTS.csv\")"
   ]
  },
  {
   "cell_type": "code",
   "execution_count": 52,
   "id": "689cd24b",
   "metadata": {},
   "outputs": [
    {
     "data": {
      "text/plain": [
       "38"
      ]
     },
     "execution_count": 52,
     "metadata": {},
     "output_type": "execute_result"
    }
   ],
   "source": [
    "len(set(centers['CENT_STATE']))"
   ]
  },
  {
   "cell_type": "code",
   "execution_count": 56,
   "id": "6999f54b",
   "metadata": {},
   "outputs": [
    {
     "data": {
      "text/plain": [
       "38"
      ]
     },
     "execution_count": 56,
     "metadata": {},
     "output_type": "execute_result"
    }
   ],
   "source": [
    "len(set(result['state']))"
   ]
  },
  {
   "cell_type": "code",
   "execution_count": null,
   "id": "94417c55",
   "metadata": {},
   "outputs": [],
   "source": []
  },
  {
   "cell_type": "code",
   "execution_count": null,
   "id": "087db079",
   "metadata": {},
   "outputs": [],
   "source": []
  },
  {
   "cell_type": "code",
   "execution_count": null,
   "id": "53beca00",
   "metadata": {},
   "outputs": [],
   "source": []
  },
  {
   "cell_type": "code",
   "execution_count": null,
   "id": "eabef1bb",
   "metadata": {},
   "outputs": [],
   "source": []
  },
  {
   "cell_type": "code",
   "execution_count": 50,
   "id": "05ef5d30",
   "metadata": {},
   "outputs": [
    {
     "data": {
      "text/html": [
       "<div>\n",
       "<style scoped>\n",
       "    .dataframe tbody tr th:only-of-type {\n",
       "        vertical-align: middle;\n",
       "    }\n",
       "\n",
       "    .dataframe tbody tr th {\n",
       "        vertical-align: top;\n",
       "    }\n",
       "\n",
       "    .dataframe thead th {\n",
       "        text-align: right;\n",
       "    }\n",
       "</style>\n",
       "<table border=\"1\" class=\"dataframe\">\n",
       "  <thead>\n",
       "    <tr style=\"text-align: right;\">\n",
       "      <th></th>\n",
       "      <th>SrNo</th>\n",
       "      <th>CENT_STATE</th>\n",
       "      <th>CENT_CITY</th>\n",
       "      <th>CENT_NAME</th>\n",
       "      <th>CENTNO</th>\n",
       "    </tr>\n",
       "  </thead>\n",
       "  <tbody>\n",
       "    <tr>\n",
       "      <th>2969</th>\n",
       "      <td>2970</td>\n",
       "      <td>OUTSIDE-INDIA</td>\n",
       "      <td>ABU DHABI</td>\n",
       "      <td>ABU DHABI INDIAN SCHOOL</td>\n",
       "      <td>990301</td>\n",
       "    </tr>\n",
       "  </tbody>\n",
       "</table>\n",
       "</div>"
      ],
      "text/plain": [
       "      SrNo     CENT_STATE  CENT_CITY                CENT_NAME  CENTNO\n",
       "2969  2970  OUTSIDE-INDIA  ABU DHABI  ABU DHABI INDIAN SCHOOL  990301"
      ]
     },
     "execution_count": 50,
     "metadata": {},
     "output_type": "execute_result"
    }
   ],
   "source": [
    "centers[centers['CENT_CITY'] == 'ABU DHABI']"
   ]
  },
  {
   "cell_type": "code",
   "execution_count": null,
   "id": "e8198e2e",
   "metadata": {},
   "outputs": [],
   "source": []
  },
  {
   "cell_type": "code",
   "execution_count": null,
   "id": "087b50d3",
   "metadata": {},
   "outputs": [],
   "source": []
  },
  {
   "cell_type": "code",
   "execution_count": 45,
   "id": "c642916f",
   "metadata": {},
   "outputs": [],
   "source": [
    "states = list(centers['CENT_STATE'].unique())\n",
    "city = list(centers['CENT_CITY'].unique())"
   ]
  },
  {
   "cell_type": "code",
   "execution_count": 46,
   "id": "78735d96",
   "metadata": {},
   "outputs": [
    {
     "data": {
      "text/plain": [
       "['PORT BLAIR',\n",
       " 'GUNTUR',\n",
       " 'KURNOOL',\n",
       " 'NELLORE',\n",
       " 'TIRUPATHI',\n",
       " 'VIJAYAWADA',\n",
       " 'PRODDATUR',\n",
       " 'RAJAHMUNDRY',\n",
       " 'SRIKAKULAM',\n",
       " 'TADEPALLIGUDEM',\n",
       " 'TANUKU',\n",
       " 'VIZIANAGARAM',\n",
       " 'VISAKHAPATNAM',\n",
       " 'TENALI',\n",
       " 'NARASARAOPET',\n",
       " 'MACHILIPATNAM',\n",
       " 'MANGALAGIRI',\n",
       " 'ANANTAPUR',\n",
       " 'BHIMAVARAM',\n",
       " 'CHIRALA',\n",
       " 'CHITTOOR',\n",
       " 'ELURU',\n",
       " 'GOOTY',\n",
       " 'GUDUR',\n",
       " 'KADAPA',\n",
       " 'KAKINADA',\n",
       " 'NANDYAL',\n",
       " 'ONGOLE',\n",
       " 'ITANAGAR/NAHARLAGUN',\n",
       " 'NAMSAI',\n",
       " 'PASIGHAT',\n",
       " 'DIBRUGARH',\n",
       " 'GUWAHATI',\n",
       " 'NAGAON',\n",
       " 'NALBARI',\n",
       " 'SIVASAGAR',\n",
       " 'UDALGURI',\n",
       " 'SILCHAR',\n",
       " 'TEZPUR',\n",
       " 'BAKSA',\n",
       " 'BARPETA',\n",
       " 'DARRANG (MANGALDOI)',\n",
       " 'DHUBRI',\n",
       " 'GOALPARA',\n",
       " 'GOLAGHAT',\n",
       " 'HAILAKANDI',\n",
       " 'JORHAT',\n",
       " 'LAKHIMPUR',\n",
       " 'PATNA',\n",
       " 'HAJIPUR',\n",
       " 'MADHUBANI',\n",
       " 'NALANDA',\n",
       " 'SITAMARHI',\n",
       " 'VAISHALI',\n",
       " 'ARARIA',\n",
       " 'ARRAH',\n",
       " 'ARWAL',\n",
       " 'AURANGABAD (BR)',\n",
       " 'BANKA',\n",
       " 'BEGUSARAI',\n",
       " 'BETTIAH',\n",
       " 'BHABUA',\n",
       " 'BHAGALPUR',\n",
       " 'MUZAFFARPUR',\n",
       " 'NAWADA',\n",
       " 'PURNEA',\n",
       " 'SAMASTIPUR',\n",
       " 'SASARAM',\n",
       " 'SHEIKHPURA',\n",
       " 'SIWAN',\n",
       " 'SUPAUL',\n",
       " 'GAYA',\n",
       " 'BUXAR',\n",
       " 'DARBHANGA',\n",
       " 'GOPALGANJ',\n",
       " 'JAMUI',\n",
       " 'JEHANABAD',\n",
       " 'KATIHAR',\n",
       " 'KHAGARIA',\n",
       " 'LAKHISARAI',\n",
       " 'MADHEPURA',\n",
       " 'MOTIHARI',\n",
       " 'MUNGER',\n",
       " 'CHANDIGARH/MOHALI',\n",
       " 'BHILAI NAGAR/DURG',\n",
       " 'BILASPUR (CG)',\n",
       " 'RAIPUR',\n",
       " 'AMBIKAPUR',\n",
       " 'BALOD',\n",
       " 'BIJAPUR',\n",
       " 'DANTEWADA',\n",
       " 'DHAMTARI',\n",
       " 'JAGDALPUR',\n",
       " 'JANJGIR',\n",
       " 'KANKER',\n",
       " 'KONDAGAON',\n",
       " 'KORBA',\n",
       " 'MAHASAMUND',\n",
       " 'NARAYANPUR',\n",
       " 'RAIGARH',\n",
       " 'RAJNANDGAON',\n",
       " 'SUKMA',\n",
       " 'MANENDRAGARH',\n",
       " 'SILVASSA',\n",
       " 'DAMAN',\n",
       " 'DIU',\n",
       " 'DELHI/NEW DELHI',\n",
       " 'PANAJI/MADGAON/MARGAO',\n",
       " 'PONDA',\n",
       " 'AHMEDABAD',\n",
       " 'HIMATNAGAR',\n",
       " 'JAMNAGAR',\n",
       " 'JUNAGADH',\n",
       " 'KADI',\n",
       " 'KHEDA',\n",
       " 'MEHSANA',\n",
       " 'MODASA',\n",
       " 'NARMADA',\n",
       " 'NAVSARI',\n",
       " 'PORBANDAR',\n",
       " 'SURENDRANAGAR',\n",
       " 'VERAVAL',\n",
       " 'VYARA',\n",
       " 'BALASINOR',\n",
       " 'ANAND',\n",
       " 'BHAVNAGAR',\n",
       " 'GANDHINAGAR',\n",
       " 'GODHRA',\n",
       " 'PATAN',\n",
       " 'RAJKOT',\n",
       " 'SURAT',\n",
       " 'VADODARA',\n",
       " 'VALSAD/VAPI',\n",
       " 'GANDHIDHAM',\n",
       " 'BHUJ',\n",
       " 'AMRELI',\n",
       " 'BANASKANTHA',\n",
       " 'BHARUCH',\n",
       " 'BOTAD',\n",
       " 'DAHOD',\n",
       " 'FARIDABAD',\n",
       " 'GURUGRAM',\n",
       " 'AMBALA',\n",
       " 'KARNAL',\n",
       " 'BHIWANI',\n",
       " 'HISSAR',\n",
       " 'JHAJJAR',\n",
       " 'JIND',\n",
       " 'KAITHAL',\n",
       " 'KURUKSHETRA',\n",
       " 'MAHENDRAGARH',\n",
       " 'MEWAT',\n",
       " 'PALWAL',\n",
       " 'PANIPAT',\n",
       " 'REWARI',\n",
       " 'ROHTAK',\n",
       " 'SIRSA',\n",
       " 'SONIPAT',\n",
       " 'YAMUNA NAGAR',\n",
       " 'HAMIRPUR (HP)',\n",
       " 'SHIMLA',\n",
       " 'BILASPUR (HP)',\n",
       " 'CHAMBA',\n",
       " 'KANGRA/PALAMPUR',\n",
       " 'KULLU',\n",
       " 'MANDI',\n",
       " 'SIRMAUR',\n",
       " 'SOLAN',\n",
       " 'UNA',\n",
       " 'JAMMU',\n",
       " 'ANANTNAG',\n",
       " 'BARAMULLA',\n",
       " 'BADGAM',\n",
       " 'KATHUA',\n",
       " 'KUPWARA',\n",
       " 'PULWAMA',\n",
       " 'SAMBA',\n",
       " 'UDHAMPUR',\n",
       " 'SRINAGAR (J AND K)',\n",
       " 'DHANBAD',\n",
       " 'DUMKA',\n",
       " 'GARHWA',\n",
       " 'GIRIDIH',\n",
       " 'GODDA',\n",
       " 'GUMLA',\n",
       " 'KHUNTI',\n",
       " 'KODERMA',\n",
       " 'LATEHAR',\n",
       " 'LOHARDAGA',\n",
       " 'PAKUR',\n",
       " 'PALAMU',\n",
       " 'RAMGARH',\n",
       " 'SAHIBGANJ',\n",
       " 'SIMDEGA',\n",
       " 'BOKARO',\n",
       " 'JAMSHEDPUR',\n",
       " 'RANCHI',\n",
       " 'HAZARIBAGH',\n",
       " 'CHAIBASA',\n",
       " 'CHATRA',\n",
       " 'DEOGHAR (JH)',\n",
       " 'BAGALKOT',\n",
       " 'BALLARI',\n",
       " 'BENGALURU- URBAN',\n",
       " 'TUMAKURU',\n",
       " 'TUMKUR',\n",
       " 'VIJAYAPURA',\n",
       " 'YADGIR',\n",
       " 'HASSAN',\n",
       " 'HAVERI',\n",
       " 'KARWAR',\n",
       " 'KODAGU',\n",
       " 'KOLAR',\n",
       " 'KOPPAL',\n",
       " 'MANDYA',\n",
       " 'RAICHUR',\n",
       " 'RAMANAGARA',\n",
       " 'SHIVAMOGA (SHIMOGA)',\n",
       " 'BELAGAVI (BELGAUM)',\n",
       " 'BENGALURU- RURAL',\n",
       " 'DAVANGERE',\n",
       " 'MANGALURU (MANGALORE)',\n",
       " 'MYSURU (MYSORE)',\n",
       " 'UDUPI/MANIPAL',\n",
       " 'BIDAR',\n",
       " 'CHAMARAJNAGAR',\n",
       " 'CHIKABALLAPUR',\n",
       " 'CHIKMAGALUR',\n",
       " 'CHITRADURGA',\n",
       " 'GADAG',\n",
       " 'DHARWAD',\n",
       " 'GULBARGA/KALABURGI',\n",
       " 'HUBLI',\n",
       " 'KASARAGOD',\n",
       " 'KOLLAM',\n",
       " 'KOTTAYAM',\n",
       " 'ALAPPUZHA/CHENGANNUR',\n",
       " 'ANGAMALY',\n",
       " 'WAYANAD',\n",
       " 'MALAPPURAM',\n",
       " 'PALAKKAD',\n",
       " 'THIRUVANANTHAPURAM',\n",
       " 'ERNAKULAM/MOOVATTUPUZHA',\n",
       " 'KANNUR',\n",
       " 'THRISSUR',\n",
       " 'IDUKKI',\n",
       " 'PATHANAMTHITTA',\n",
       " 'PAYYANUR',\n",
       " 'KOZHIKODE/CALICUT',\n",
       " 'LEH',\n",
       " 'KARGIL',\n",
       " 'KAVARATTI',\n",
       " 'BHOPAL',\n",
       " 'GWALIOR',\n",
       " 'INDORE',\n",
       " 'RATLAM',\n",
       " 'SAGAR',\n",
       " 'SATNA',\n",
       " 'SINGRAULI',\n",
       " 'VIDISHA',\n",
       " 'JABALPUR',\n",
       " 'UJJAIN',\n",
       " 'REWA',\n",
       " 'ASHOK NAGAR',\n",
       " 'DAMOH',\n",
       " 'DATIA',\n",
       " 'DEWAS',\n",
       " 'DHAR',\n",
       " 'GUNA',\n",
       " 'HOSHANGABAD',\n",
       " 'KHANDWA',\n",
       " 'KHARGONE (WEST NIMAR)',\n",
       " 'MANDSAUR',\n",
       " 'MORENA',\n",
       " 'NEEMUCH',\n",
       " 'RAJGARH',\n",
       " 'BALAGHAT',\n",
       " 'BARWANI',\n",
       " 'BETUL',\n",
       " 'BHIND',\n",
       " 'CHHATARPUR',\n",
       " 'CHHINDWARA',\n",
       " 'DHULE',\n",
       " 'BHANDARA',\n",
       " 'CHANDRAPUR',\n",
       " 'GADCHIROLI',\n",
       " 'GONDIA',\n",
       " 'NANDURBAR',\n",
       " 'OSMANABAD',\n",
       " 'PALGHAR',\n",
       " 'AMRAVATI',\n",
       " 'AURANGABAD (MR)',\n",
       " 'BEED',\n",
       " 'PUNE',\n",
       " 'SATARA',\n",
       " 'SOLAPUR',\n",
       " 'AHMEDNAGAR',\n",
       " 'AKOLA',\n",
       " 'LATUR',\n",
       " 'MUMBAI',\n",
       " 'PARBHANI',\n",
       " 'RAIGAD',\n",
       " 'WARDHA',\n",
       " 'WASHIM',\n",
       " 'YAVATMAL',\n",
       " 'MALEGAON',\n",
       " 'BULDHANA',\n",
       " 'JALGAON',\n",
       " 'KOLHAPUR',\n",
       " 'NANDED',\n",
       " 'NASHIK',\n",
       " 'NAVI MUMBAI',\n",
       " 'THANE',\n",
       " 'SANGLI',\n",
       " 'SINDHUDURG',\n",
       " 'RATNAGIRI',\n",
       " 'NAGPUR',\n",
       " 'IMPHAL',\n",
       " 'CHANDEL',\n",
       " 'CHURACHANDPUR',\n",
       " 'SHILLONG',\n",
       " 'EAST KHASI HILLS',\n",
       " 'RI BHOI',\n",
       " 'JOWAI',\n",
       " 'TURA',\n",
       " 'AIZAWL',\n",
       " 'DIMAPUR',\n",
       " 'KOHIMA',\n",
       " 'ANGUL',\n",
       " 'BALASORE (BALESWAR)',\n",
       " 'SAMBALPUR',\n",
       " 'BALANGIR',\n",
       " 'BHAWANIPATNA / KALAHANDI',\n",
       " 'KENDUJHAR (KEONJHAR)',\n",
       " 'JEYPORE (ODISHA)',\n",
       " 'MALKANGIRI',\n",
       " 'PARALAKHEMUNDI (GAJAPATI)',\n",
       " 'PHULBANI (KANDHAMAL)',\n",
       " 'RAYAGADA',\n",
       " 'PURI',\n",
       " 'BARAGARH',\n",
       " 'BARIPADA/MAYURBANJ',\n",
       " 'BHADRAK',\n",
       " 'DHENKANAL',\n",
       " 'JAGATSINGHPUR',\n",
       " 'BERHAMPUR/GANJAM',\n",
       " 'BHUBANESWAR',\n",
       " 'CUTTACK',\n",
       " 'ROURKELA',\n",
       " 'JAJPUR',\n",
       " 'JHARSUGUDA',\n",
       " 'KENDRAPARA',\n",
       " 'NAWARANGPUR',\n",
       " 'NUAPADA',\n",
       " 'RAIRANGPUR',\n",
       " 'KUWAIT CITY',\n",
       " 'DUBAI',\n",
       " 'ABU DHABI',\n",
       " 'BANGKOK',\n",
       " 'COLOMBO',\n",
       " 'DOHA',\n",
       " 'KATHMANDU',\n",
       " 'KUALA LUMPUR',\n",
       " 'LAGOS',\n",
       " 'MANAMA',\n",
       " 'MUSCAT',\n",
       " 'RIYADH',\n",
       " 'SHARJAH',\n",
       " 'SINGAPORE',\n",
       " 'PUDUCHERRY',\n",
       " 'YANAM',\n",
       " 'MAHE',\n",
       " 'KARAIKAL',\n",
       " 'AMRITSAR',\n",
       " 'BHATINDA',\n",
       " 'JALANDHAR',\n",
       " 'LUDHIANA',\n",
       " 'PATIALA/FATEHGARH SAHIB',\n",
       " 'FARIDKOT',\n",
       " 'FAZILKA',\n",
       " 'FIROZPUR',\n",
       " 'GURDASPUR',\n",
       " 'HOSHIARPUR',\n",
       " 'MOGA',\n",
       " 'PATHANKOT',\n",
       " 'RUPNAGAR',\n",
       " 'SAHIBZADA AJIT SINGH NAGAR',\n",
       " 'SANGRUR',\n",
       " 'SRI MUKTSAR SAHIB',\n",
       " 'AJMER',\n",
       " 'BIKANER',\n",
       " 'JAIPUR',\n",
       " 'CHURU',\n",
       " 'DAUSA',\n",
       " 'DHOLPUR',\n",
       " 'HANUMANGARH',\n",
       " 'JAISALMER',\n",
       " 'JHUNJHUNU',\n",
       " 'KARAULI',\n",
       " 'NAGAUR',\n",
       " 'PALI',\n",
       " 'SAWAI MADHOPUR',\n",
       " 'SIKAR',\n",
       " 'KOTA',\n",
       " 'UDAIPUR',\n",
       " 'ALWAR',\n",
       " 'BARAN',\n",
       " 'BARMER',\n",
       " 'BHARATPUR',\n",
       " 'BHILWARA',\n",
       " 'CHITTORGARH',\n",
       " 'JODHPUR',\n",
       " 'SIROHI',\n",
       " 'SRIGANGANAGAR',\n",
       " 'GANGTOK',\n",
       " 'WEST SIKKIM',\n",
       " 'CHENNAI',\n",
       " 'CUDDALORE',\n",
       " 'KANCHIPURAM',\n",
       " 'KARUR',\n",
       " 'MADURAI',\n",
       " 'KANYAKUMARI/NAGERCOIL',\n",
       " 'NAMAKKAL',\n",
       " 'SALEM',\n",
       " 'COIMBATORE',\n",
       " 'PUDUKKOTTAI',\n",
       " 'RAMANATHAPURAM',\n",
       " 'SIVAGANGA',\n",
       " 'THOOTHUKUDI',\n",
       " 'TIRUVARUR',\n",
       " 'TIRUVANNAMALAI',\n",
       " 'UDHAGAMANDALAM',\n",
       " 'VILUPPURAM',\n",
       " 'KRISHNAGIRI',\n",
       " 'NAGAPATTINAM',\n",
       " 'THANJAVUR',\n",
       " 'THIRUVALLUR',\n",
       " 'TIRUCHIRAPPALLI',\n",
       " 'TIRUNELVELI',\n",
       " 'VELLORE',\n",
       " 'CHENGALPET',\n",
       " 'VIRUDHUNAGAR',\n",
       " 'DINDIGUL',\n",
       " 'TIRUPPUR',\n",
       " 'ARIYALUR',\n",
       " 'DHARMAPURI',\n",
       " 'ERODE',\n",
       " 'HYDERABAD/SECUNDERABAD',\n",
       " 'KARIMNAGAR',\n",
       " 'KHAMMAM',\n",
       " 'MANCHERIAL',\n",
       " 'MEDAK',\n",
       " 'MEDCHAL',\n",
       " 'NALGONDA',\n",
       " 'NIZAMABAD',\n",
       " 'SIDDIPET',\n",
       " 'SURYAPET',\n",
       " 'VIKARABAD',\n",
       " 'RANGA REDDY',\n",
       " 'WARANGAL',\n",
       " 'SANGAREDDY',\n",
       " 'MAHBUBNAGAR',\n",
       " 'HAYATHNAGAR',\n",
       " 'ADILABAD',\n",
       " 'ASIFABAD',\n",
       " 'BHUPALAPALLY',\n",
       " 'GADWAL',\n",
       " 'JAGTIAL',\n",
       " 'JANGAON',\n",
       " 'KOTHAGUDEM',\n",
       " 'MAHABUBABAD',\n",
       " 'AGARTALA',\n",
       " 'DHALAI',\n",
       " 'AGRA',\n",
       " 'BAREILLY',\n",
       " 'GHAZIABAD',\n",
       " 'GORAKHPUR',\n",
       " 'LUCKNOW',\n",
       " 'MEERUT',\n",
       " 'MAU',\n",
       " 'MIRZAPUR',\n",
       " 'MORADABAD',\n",
       " 'MUZAFFARNAGAR',\n",
       " 'NAUGARH',\n",
       " 'PRATAPGARH',\n",
       " 'RAI BAREILLY',\n",
       " 'RAMPUR',\n",
       " 'NOIDA/GREATER NOIDA',\n",
       " 'VARANASI',\n",
       " 'PRAYAGRAJ\\xa0',\n",
       " 'PRAYAGRAJ',\n",
       " 'SAHARANPUR',\n",
       " 'SHAHJAHANPUR',\n",
       " 'SHRAVASTI',\n",
       " 'SONBHADRA',\n",
       " 'SULTANPUR',\n",
       " 'UNNAO',\n",
       " 'FATEHPUR',\n",
       " 'MATHURA',\n",
       " 'SITAPUR',\n",
       " 'AYODHYA',\n",
       " 'ALIGARH',\n",
       " 'AMBEDKAR NAGAR',\n",
       " 'AMETHI',\n",
       " 'AZAMGARH',\n",
       " 'BAHJOI',\n",
       " 'BAHRAICH',\n",
       " 'BALLIA',\n",
       " 'BALRAMPUR',\n",
       " 'BANDA',\n",
       " 'BARABANKI',\n",
       " 'BASTI',\n",
       " 'GONDA',\n",
       " 'HAPUR (PANCHSHEEL NAGAR)',\n",
       " 'HARDOI',\n",
       " 'HATHRAS',\n",
       " 'JALAUN (ORAI)',\n",
       " 'JAUNPUR',\n",
       " 'KAUSHAMBI',\n",
       " 'KUSHINAGAR',\n",
       " 'LAKHINPUR KHERI',\n",
       " 'LALITPUR',\n",
       " 'MAINPURI',\n",
       " 'JHANSI',\n",
       " 'KANPUR',\n",
       " 'BIJNOR',\n",
       " 'BUDAUN',\n",
       " 'BULANDSHAHR',\n",
       " 'CHANDAULI',\n",
       " 'CHITRAKOOT',\n",
       " 'DEORIA',\n",
       " 'ETAWAH',\n",
       " 'FIROZABAD',\n",
       " 'GHAZIPUR',\n",
       " 'DEHRADUN',\n",
       " 'HALDWANI',\n",
       " 'ROORKEE',\n",
       " 'ALMORA',\n",
       " 'HARIDWAR',\n",
       " 'NAINITAL',\n",
       " 'NEW TEHRI',\n",
       " 'PANTNAGAR',\n",
       " 'PAURI GARHWAL',\n",
       " 'UDHAM SINGH NAGAR',\n",
       " 'CHAMOLI',\n",
       " 'PITTHORAGARH',\n",
       " 'UTTARKASHI',\n",
       " 'NORTH 24 PARGANAS',\n",
       " 'ASANSOL',\n",
       " 'BURDWAN (BARDHAMAN)',\n",
       " 'DURGAPUR',\n",
       " 'HOOGHLY',\n",
       " 'HOWRAH',\n",
       " 'KHARAGPUR',\n",
       " 'KOLKATA',\n",
       " 'KALYANI',\n",
       " 'MALDA',\n",
       " 'MURSHIDABAD',\n",
       " 'NADIA',\n",
       " 'PURBA MEDINIPUR',\n",
       " 'SOUTH 24 PARGANAS',\n",
       " 'SURI',\n",
       " 'BALURGHAT',\n",
       " 'SILIGURI',\n",
       " 'BANKURA',\n",
       " 'DARJEELING',\n",
       " 'JALPAIGURI']"
      ]
     },
     "execution_count": 46,
     "metadata": {},
     "output_type": "execute_result"
    }
   ],
   "source": [
    "city"
   ]
  },
  {
   "cell_type": "code",
   "execution_count": 48,
   "id": "d1cab6e7",
   "metadata": {},
   "outputs": [
    {
     "data": {
      "text/plain": [
       "['ANDAMAN AND NICOBAR ISLANDS (UT)',\n",
       " 'ANDHRA PRADESH',\n",
       " 'ARUNACHAL PRADESH',\n",
       " 'ASSAM',\n",
       " 'BIHAR',\n",
       " 'CHANDIGARH(UT)',\n",
       " 'CHHATTISGARH',\n",
       " 'DADRA AND NAGAR HAVELI (UT)',\n",
       " 'DAMAN AND DIU (UT)',\n",
       " 'DELHI',\n",
       " 'GOA',\n",
       " 'GUJARAT',\n",
       " 'HARYANA',\n",
       " 'HIMACHAL PRADESH',\n",
       " 'JAMMU AND KASHMIR',\n",
       " 'JHARKHAND',\n",
       " 'KARNATAKA',\n",
       " 'KERALA',\n",
       " 'LADAKH(UT)',\n",
       " 'LAKSHADWEEP (UT)',\n",
       " 'MADHYA PRADESH',\n",
       " 'MAHARASHTRA',\n",
       " 'MANIPUR',\n",
       " 'MEGHALAYA',\n",
       " 'MIZORAM',\n",
       " 'NAGALAND',\n",
       " 'ODISHA',\n",
       " 'OUTSIDE-INDIA',\n",
       " 'PUDUCHERRY(UT)',\n",
       " 'PUNJAB',\n",
       " 'RAJASTHAN',\n",
       " 'SIKKIM',\n",
       " 'TAMIL NADU',\n",
       " 'TELANGANA',\n",
       " 'TRIPURA',\n",
       " 'UTTAR PRADESH',\n",
       " 'UTTARAKHAND',\n",
       " 'WEST BENGAL']"
      ]
     },
     "execution_count": 48,
     "metadata": {},
     "output_type": "execute_result"
    }
   ],
   "source": [
    "sorted(states)"
   ]
  },
  {
   "cell_type": "code",
   "execution_count": 36,
   "id": "dd9e9b02",
   "metadata": {},
   "outputs": [],
   "source": [
    "for state, city in list(zip(states, city)):\n",
    "    if (state == 'BIHAR') and (city == 'PATNA'):\n",
    "        print(state, city)"
   ]
  },
  {
   "cell_type": "code",
   "execution_count": null,
   "id": "95d9fd1d",
   "metadata": {},
   "outputs": [],
   "source": []
  },
  {
   "cell_type": "code",
   "execution_count": 28,
   "id": "b9c016f1",
   "metadata": {},
   "outputs": [
    {
     "data": {
      "text/html": [
       "<div>\n",
       "<style scoped>\n",
       "    .dataframe tbody tr th:only-of-type {\n",
       "        vertical-align: middle;\n",
       "    }\n",
       "\n",
       "    .dataframe tbody tr th {\n",
       "        vertical-align: top;\n",
       "    }\n",
       "\n",
       "    .dataframe thead th {\n",
       "        text-align: right;\n",
       "    }\n",
       "</style>\n",
       "<table border=\"1\" class=\"dataframe\">\n",
       "  <thead>\n",
       "    <tr style=\"text-align: right;\">\n",
       "      <th></th>\n",
       "      <th>SrNo</th>\n",
       "      <th>CENT_STATE</th>\n",
       "      <th>CENT_CITY</th>\n",
       "      <th>CENT_NAME</th>\n",
       "      <th>CENTNO</th>\n",
       "    </tr>\n",
       "  </thead>\n",
       "  <tbody>\n",
       "    <tr>\n",
       "      <th>239</th>\n",
       "      <td>240</td>\n",
       "      <td>BIHAR</td>\n",
       "      <td>PATNA</td>\n",
       "      <td>S.V.M. RESIDENTIAL PUBLIC SCHOOL</td>\n",
       "      <td>150252</td>\n",
       "    </tr>\n",
       "    <tr>\n",
       "      <th>240</th>\n",
       "      <td>241</td>\n",
       "      <td>BIHAR</td>\n",
       "      <td>PATNA</td>\n",
       "      <td>HIMALAYAN INTERNATIONAL SCHOOL</td>\n",
       "      <td>150253</td>\n",
       "    </tr>\n",
       "    <tr>\n",
       "      <th>241</th>\n",
       "      <td>242</td>\n",
       "      <td>BIHAR</td>\n",
       "      <td>PATNA</td>\n",
       "      <td>ANKUR PUBLIC SCHOOL</td>\n",
       "      <td>150254</td>\n",
       "    </tr>\n",
       "    <tr>\n",
       "      <th>242</th>\n",
       "      <td>243</td>\n",
       "      <td>BIHAR</td>\n",
       "      <td>PATNA</td>\n",
       "      <td>INDIRAPURAM PUBLIC SCHOOL GIRLS</td>\n",
       "      <td>150255</td>\n",
       "    </tr>\n",
       "    <tr>\n",
       "      <th>243</th>\n",
       "      <td>244</td>\n",
       "      <td>BIHAR</td>\n",
       "      <td>PATNA</td>\n",
       "      <td>KENDRIYA VIDYALAYA</td>\n",
       "      <td>150256</td>\n",
       "    </tr>\n",
       "    <tr>\n",
       "      <th>...</th>\n",
       "      <td>...</td>\n",
       "      <td>...</td>\n",
       "      <td>...</td>\n",
       "      <td>...</td>\n",
       "      <td>...</td>\n",
       "    </tr>\n",
       "    <tr>\n",
       "      <th>394</th>\n",
       "      <td>395</td>\n",
       "      <td>BIHAR</td>\n",
       "      <td>PATNA</td>\n",
       "      <td>RPS COLLEGE</td>\n",
       "      <td>150247</td>\n",
       "    </tr>\n",
       "    <tr>\n",
       "      <th>395</th>\n",
       "      <td>396</td>\n",
       "      <td>BIHAR</td>\n",
       "      <td>PATNA</td>\n",
       "      <td>SATYAM INTERNATIONAL INSTITUTE OF TECHNOLOGY</td>\n",
       "      <td>150248</td>\n",
       "    </tr>\n",
       "    <tr>\n",
       "      <th>396</th>\n",
       "      <td>397</td>\n",
       "      <td>BIHAR</td>\n",
       "      <td>PATNA</td>\n",
       "      <td>HIMALAYAN RESIDENTIAL SCHOOL</td>\n",
       "      <td>150249</td>\n",
       "    </tr>\n",
       "    <tr>\n",
       "      <th>397</th>\n",
       "      <td>398</td>\n",
       "      <td>BIHAR</td>\n",
       "      <td>PATNA</td>\n",
       "      <td>LEED''S ASIAN SCHOOL</td>\n",
       "      <td>150250</td>\n",
       "    </tr>\n",
       "    <tr>\n",
       "      <th>398</th>\n",
       "      <td>399</td>\n",
       "      <td>BIHAR</td>\n",
       "      <td>PATNA</td>\n",
       "      <td>FOUNDATION ACAD IIT RES COMPLEX BIHTA PATNA BR</td>\n",
       "      <td>150251</td>\n",
       "    </tr>\n",
       "  </tbody>\n",
       "</table>\n",
       "<p>70 rows × 5 columns</p>\n",
       "</div>"
      ],
      "text/plain": [
       "     SrNo CENT_STATE CENT_CITY  \\\n",
       "239   240      BIHAR     PATNA   \n",
       "240   241      BIHAR     PATNA   \n",
       "241   242      BIHAR     PATNA   \n",
       "242   243      BIHAR     PATNA   \n",
       "243   244      BIHAR     PATNA   \n",
       "..    ...        ...       ...   \n",
       "394   395      BIHAR     PATNA   \n",
       "395   396      BIHAR     PATNA   \n",
       "396   397      BIHAR     PATNA   \n",
       "397   398      BIHAR     PATNA   \n",
       "398   399      BIHAR     PATNA   \n",
       "\n",
       "                                          CENT_NAME  CENTNO  \n",
       "239                S.V.M. RESIDENTIAL PUBLIC SCHOOL  150252  \n",
       "240                  HIMALAYAN INTERNATIONAL SCHOOL  150253  \n",
       "241                             ANKUR PUBLIC SCHOOL  150254  \n",
       "242                 INDIRAPURAM PUBLIC SCHOOL GIRLS  150255  \n",
       "243                              KENDRIYA VIDYALAYA  150256  \n",
       "..                                              ...     ...  \n",
       "394                                     RPS COLLEGE  150247  \n",
       "395    SATYAM INTERNATIONAL INSTITUTE OF TECHNOLOGY  150248  \n",
       "396                    HIMALAYAN RESIDENTIAL SCHOOL  150249  \n",
       "397                            LEED''S ASIAN SCHOOL  150250  \n",
       "398  FOUNDATION ACAD IIT RES COMPLEX BIHTA PATNA BR  150251  \n",
       "\n",
       "[70 rows x 5 columns]"
      ]
     },
     "execution_count": 28,
     "metadata": {},
     "output_type": "execute_result"
    }
   ],
   "source": [
    "centers[(centers['CENT_STATE'] == 'BIHAR') & (centers['CENT_CITY'] == 'PATNA')]"
   ]
  },
  {
   "cell_type": "code",
   "execution_count": null,
   "id": "f53edc7a",
   "metadata": {},
   "outputs": [],
   "source": []
  },
  {
   "cell_type": "code",
   "execution_count": null,
   "id": "457d9216",
   "metadata": {},
   "outputs": [],
   "source": []
  },
  {
   "cell_type": "code",
   "execution_count": 26,
   "id": "2d9cc341",
   "metadata": {},
   "outputs": [
    {
     "data": {
      "text/plain": [
       "array(['PORT BLAIR', 'GUNTUR', 'KURNOOL', 'NELLORE', 'TIRUPATHI',\n",
       "       'VIJAYAWADA', 'PRODDATUR', 'RAJAHMUNDRY', 'SRIKAKULAM',\n",
       "       'TADEPALLIGUDEM', 'TANUKU', 'VIZIANAGARAM', 'VISAKHAPATNAM',\n",
       "       'TENALI', 'NARASARAOPET', 'MACHILIPATNAM', 'MANGALAGIRI',\n",
       "       'ANANTAPUR', 'BHIMAVARAM', 'CHIRALA', 'CHITTOOR', 'ELURU', 'GOOTY',\n",
       "       'GUDUR', 'KADAPA', 'KAKINADA', 'NANDYAL', 'ONGOLE',\n",
       "       'ITANAGAR/NAHARLAGUN', 'NAMSAI', 'PASIGHAT', 'DIBRUGARH',\n",
       "       'GUWAHATI', 'NAGAON', 'NALBARI', 'SIVASAGAR', 'UDALGURI',\n",
       "       'SILCHAR', 'TEZPUR', 'BAKSA', 'BARPETA', 'DARRANG (MANGALDOI)',\n",
       "       'DHUBRI', 'GOALPARA', 'GOLAGHAT', 'HAILAKANDI', 'JORHAT',\n",
       "       'LAKHIMPUR', 'PATNA', 'HAJIPUR', 'MADHUBANI', 'NALANDA',\n",
       "       'SITAMARHI', 'VAISHALI', 'ARARIA', 'ARRAH', 'ARWAL',\n",
       "       'AURANGABAD (BR)', 'BANKA', 'BEGUSARAI', 'BETTIAH', 'BHABUA',\n",
       "       'BHAGALPUR', 'MUZAFFARPUR', 'NAWADA', 'PURNEA', 'SAMASTIPUR',\n",
       "       'SASARAM', 'SHEIKHPURA', 'SIWAN', 'SUPAUL', 'GAYA', 'BUXAR',\n",
       "       'DARBHANGA', 'GOPALGANJ', 'JAMUI', 'JEHANABAD', 'KATIHAR',\n",
       "       'KHAGARIA', 'LAKHISARAI', 'MADHEPURA', 'MOTIHARI', 'MUNGER',\n",
       "       'CHANDIGARH/MOHALI', 'BHILAI NAGAR/DURG', 'BILASPUR (CG)',\n",
       "       'RAIPUR', 'AMBIKAPUR', 'BALOD', 'BIJAPUR', 'DANTEWADA', 'DHAMTARI',\n",
       "       'JAGDALPUR', 'JANJGIR', 'KANKER', 'KONDAGAON', 'KORBA',\n",
       "       'MAHASAMUND', 'NARAYANPUR', 'RAIGARH', 'RAJNANDGAON', 'SUKMA',\n",
       "       'MANENDRAGARH', 'SILVASSA', 'DAMAN', 'DIU', 'DELHI/NEW DELHI',\n",
       "       'PANAJI/MADGAON/MARGAO', 'PONDA', 'AHMEDABAD', 'HIMATNAGAR',\n",
       "       'JAMNAGAR', 'JUNAGADH', 'KADI', 'KHEDA', 'MEHSANA', 'MODASA',\n",
       "       'NARMADA', 'NAVSARI', 'PORBANDAR', 'SURENDRANAGAR', 'VERAVAL',\n",
       "       'VYARA', 'BALASINOR', 'ANAND', 'BHAVNAGAR', 'GANDHINAGAR',\n",
       "       'GODHRA', 'PATAN', 'RAJKOT', 'SURAT', 'VADODARA', 'VALSAD/VAPI',\n",
       "       'GANDHIDHAM', 'BHUJ', 'AMRELI', 'BANASKANTHA', 'BHARUCH', 'BOTAD',\n",
       "       'DAHOD', 'FARIDABAD', 'GURUGRAM', 'AMBALA', 'KARNAL', 'BHIWANI',\n",
       "       'HISSAR', 'JHAJJAR', 'JIND', 'KAITHAL', 'KURUKSHETRA',\n",
       "       'MAHENDRAGARH', 'MEWAT', 'PALWAL', 'PANIPAT', 'REWARI', 'ROHTAK',\n",
       "       'SIRSA', 'SONIPAT', 'YAMUNA NAGAR', 'HAMIRPUR (HP)', 'SHIMLA',\n",
       "       'BILASPUR (HP)', 'CHAMBA', 'KANGRA/PALAMPUR', 'KULLU', 'MANDI',\n",
       "       'SIRMAUR', 'SOLAN', 'UNA', 'JAMMU', 'ANANTNAG', 'BARAMULLA',\n",
       "       'BADGAM', 'KATHUA', 'KUPWARA', 'PULWAMA', 'SAMBA', 'UDHAMPUR',\n",
       "       'SRINAGAR (J AND K)', 'DHANBAD', 'DUMKA', 'GARHWA', 'GIRIDIH',\n",
       "       'GODDA', 'GUMLA', 'KHUNTI', 'KODERMA', 'LATEHAR', 'LOHARDAGA',\n",
       "       'PAKUR', 'PALAMU', 'RAMGARH', 'SAHIBGANJ', 'SIMDEGA', 'BOKARO',\n",
       "       'JAMSHEDPUR', 'RANCHI', 'HAZARIBAGH', 'CHAIBASA', 'CHATRA',\n",
       "       'DEOGHAR (JH)', 'BAGALKOT', 'BALLARI', 'BENGALURU- URBAN',\n",
       "       'TUMAKURU', 'TUMKUR', 'VIJAYAPURA', 'YADGIR', 'HASSAN', 'HAVERI',\n",
       "       'KARWAR', 'KODAGU', 'KOLAR', 'KOPPAL', 'MANDYA', 'RAICHUR',\n",
       "       'RAMANAGARA', 'SHIVAMOGA (SHIMOGA)', 'BELAGAVI (BELGAUM)',\n",
       "       'BENGALURU- RURAL', 'DAVANGERE', 'MANGALURU (MANGALORE)',\n",
       "       'MYSURU (MYSORE)', 'UDUPI/MANIPAL', 'BIDAR', 'CHAMARAJNAGAR',\n",
       "       'CHIKABALLAPUR', 'CHIKMAGALUR', 'CHITRADURGA', 'GADAG', 'DHARWAD',\n",
       "       'GULBARGA/KALABURGI', 'HUBLI', 'KASARAGOD', 'KOLLAM', 'KOTTAYAM',\n",
       "       'ALAPPUZHA/CHENGANNUR', 'ANGAMALY', 'WAYANAD', 'MALAPPURAM',\n",
       "       'PALAKKAD', 'THIRUVANANTHAPURAM', 'ERNAKULAM/MOOVATTUPUZHA',\n",
       "       'KANNUR', 'THRISSUR', 'IDUKKI', 'PATHANAMTHITTA', 'PAYYANUR',\n",
       "       'KOZHIKODE/CALICUT', 'LEH', 'KARGIL', 'KAVARATTI', 'BHOPAL',\n",
       "       'GWALIOR', 'INDORE', 'RATLAM', 'SAGAR', 'SATNA', 'SINGRAULI',\n",
       "       'VIDISHA', 'JABALPUR', 'UJJAIN', 'REWA', 'ASHOK NAGAR', 'DAMOH',\n",
       "       'DATIA', 'DEWAS', 'DHAR', 'GUNA', 'HOSHANGABAD', 'KHANDWA',\n",
       "       'KHARGONE (WEST NIMAR)', 'MANDSAUR', 'MORENA', 'NEEMUCH',\n",
       "       'RAJGARH', 'BALAGHAT', 'BARWANI', 'BETUL', 'BHIND', 'CHHATARPUR',\n",
       "       'CHHINDWARA', 'DHULE', 'BHANDARA', 'CHANDRAPUR', 'GADCHIROLI',\n",
       "       'GONDIA', 'NANDURBAR', 'OSMANABAD', 'PALGHAR', 'AMRAVATI',\n",
       "       'AURANGABAD (MR)', 'BEED', 'PUNE', 'SATARA', 'SOLAPUR',\n",
       "       'AHMEDNAGAR', 'AKOLA', 'LATUR', 'MUMBAI', 'PARBHANI', 'RAIGAD',\n",
       "       'WARDHA', 'WASHIM', 'YAVATMAL', 'MALEGAON', 'BULDHANA', 'JALGAON',\n",
       "       'KOLHAPUR', 'NANDED', 'NASHIK', 'NAVI MUMBAI', 'THANE', 'SANGLI',\n",
       "       'SINDHUDURG', 'RATNAGIRI', 'NAGPUR', 'IMPHAL', 'CHANDEL',\n",
       "       'CHURACHANDPUR', 'SHILLONG', 'EAST KHASI HILLS', 'RI BHOI',\n",
       "       'JOWAI', 'TURA', 'AIZAWL', 'DIMAPUR', 'KOHIMA', 'ANGUL',\n",
       "       'BALASORE (BALESWAR)', 'SAMBALPUR', 'BALANGIR',\n",
       "       'BHAWANIPATNA / KALAHANDI', 'KENDUJHAR (KEONJHAR)',\n",
       "       'JEYPORE (ODISHA)', 'MALKANGIRI', 'PARALAKHEMUNDI (GAJAPATI)',\n",
       "       'PHULBANI (KANDHAMAL)', 'RAYAGADA', 'PURI', 'BARAGARH',\n",
       "       'BARIPADA/MAYURBANJ', 'BHADRAK', 'DHENKANAL', 'JAGATSINGHPUR',\n",
       "       'BERHAMPUR/GANJAM', 'BHUBANESWAR', 'CUTTACK', 'ROURKELA', 'JAJPUR',\n",
       "       'JHARSUGUDA', 'KENDRAPARA', 'NAWARANGPUR', 'NUAPADA', 'RAIRANGPUR',\n",
       "       'KUWAIT CITY', 'DUBAI', 'ABU DHABI', 'BANGKOK', 'COLOMBO', 'DOHA',\n",
       "       'KATHMANDU', 'KUALA LUMPUR', 'LAGOS', 'MANAMA', 'MUSCAT', 'RIYADH',\n",
       "       'SHARJAH', 'SINGAPORE', 'PUDUCHERRY', 'YANAM', 'MAHE', 'KARAIKAL',\n",
       "       'AMRITSAR', 'BHATINDA', 'JALANDHAR', 'LUDHIANA',\n",
       "       'PATIALA/FATEHGARH SAHIB', 'FARIDKOT', 'FAZILKA', 'FIROZPUR',\n",
       "       'GURDASPUR', 'HOSHIARPUR', 'MOGA', 'PATHANKOT', 'RUPNAGAR',\n",
       "       'SAHIBZADA AJIT SINGH NAGAR', 'SANGRUR', 'SRI MUKTSAR SAHIB',\n",
       "       'AJMER', 'BIKANER', 'JAIPUR', 'CHURU', 'DAUSA', 'DHOLPUR',\n",
       "       'HANUMANGARH', 'JAISALMER', 'JHUNJHUNU', 'KARAULI', 'NAGAUR',\n",
       "       'PALI', 'SAWAI MADHOPUR', 'SIKAR', 'KOTA', 'UDAIPUR', 'ALWAR',\n",
       "       'BARAN', 'BARMER', 'BHARATPUR', 'BHILWARA', 'CHITTORGARH',\n",
       "       'JODHPUR', 'SIROHI', 'SRIGANGANAGAR', 'GANGTOK', 'WEST SIKKIM',\n",
       "       'CHENNAI', 'CUDDALORE', 'KANCHIPURAM', 'KARUR', 'MADURAI',\n",
       "       'KANYAKUMARI/NAGERCOIL', 'NAMAKKAL', 'SALEM', 'COIMBATORE',\n",
       "       'PUDUKKOTTAI', 'RAMANATHAPURAM', 'SIVAGANGA', 'THOOTHUKUDI',\n",
       "       'TIRUVARUR', 'TIRUVANNAMALAI', 'UDHAGAMANDALAM', 'VILUPPURAM',\n",
       "       'KRISHNAGIRI', 'NAGAPATTINAM', 'THANJAVUR', 'THIRUVALLUR',\n",
       "       'TIRUCHIRAPPALLI', 'TIRUNELVELI', 'VELLORE', 'CHENGALPET',\n",
       "       'VIRUDHUNAGAR', 'DINDIGUL', 'TIRUPPUR', 'ARIYALUR', 'DHARMAPURI',\n",
       "       'ERODE', 'HYDERABAD/SECUNDERABAD', 'KARIMNAGAR', 'KHAMMAM',\n",
       "       'MANCHERIAL', 'MEDAK', 'MEDCHAL', 'NALGONDA', 'NIZAMABAD',\n",
       "       'SIDDIPET', 'SURYAPET', 'VIKARABAD', 'RANGA REDDY', 'WARANGAL',\n",
       "       'SANGAREDDY', 'MAHBUBNAGAR', 'HAYATHNAGAR', 'ADILABAD', 'ASIFABAD',\n",
       "       'BHUPALAPALLY', 'GADWAL', 'JAGTIAL', 'JANGAON', 'KOTHAGUDEM',\n",
       "       'MAHABUBABAD', 'AGARTALA', 'DHALAI', 'AGRA', 'BAREILLY',\n",
       "       'GHAZIABAD', 'GORAKHPUR', 'LUCKNOW', 'MEERUT', 'MAU', 'MIRZAPUR',\n",
       "       'MORADABAD', 'MUZAFFARNAGAR', 'NAUGARH', 'PRATAPGARH',\n",
       "       'RAI BAREILLY', 'RAMPUR', 'NOIDA/GREATER NOIDA', 'VARANASI',\n",
       "       'PRAYAGRAJ\\xa0', 'PRAYAGRAJ', 'SAHARANPUR', 'SHAHJAHANPUR',\n",
       "       'SHRAVASTI', 'SONBHADRA', 'SULTANPUR', 'UNNAO', 'FATEHPUR',\n",
       "       'MATHURA', 'SITAPUR', 'AYODHYA', 'ALIGARH', 'AMBEDKAR NAGAR',\n",
       "       'AMETHI', 'AZAMGARH', 'BAHJOI', 'BAHRAICH', 'BALLIA', 'BALRAMPUR',\n",
       "       'BANDA', 'BARABANKI', 'BASTI', 'GONDA', 'HAPUR (PANCHSHEEL NAGAR)',\n",
       "       'HARDOI', 'HATHRAS', 'JALAUN (ORAI)', 'JAUNPUR', 'KAUSHAMBI',\n",
       "       'KUSHINAGAR', 'LAKHINPUR KHERI', 'LALITPUR', 'MAINPURI', 'JHANSI',\n",
       "       'KANPUR', 'BIJNOR', 'BUDAUN', 'BULANDSHAHR', 'CHANDAULI',\n",
       "       'CHITRAKOOT', 'DEORIA', 'ETAWAH', 'FIROZABAD', 'GHAZIPUR',\n",
       "       'DEHRADUN', 'HALDWANI', 'ROORKEE', 'ALMORA', 'HARIDWAR',\n",
       "       'NAINITAL', 'NEW TEHRI', 'PANTNAGAR', 'PAURI GARHWAL',\n",
       "       'UDHAM SINGH NAGAR', 'CHAMOLI', 'PITTHORAGARH', 'UTTARKASHI',\n",
       "       'NORTH 24 PARGANAS', 'ASANSOL', 'BURDWAN (BARDHAMAN)', 'DURGAPUR',\n",
       "       'HOOGHLY', 'HOWRAH', 'KHARAGPUR', 'KOLKATA', 'KALYANI', 'MALDA',\n",
       "       'MURSHIDABAD', 'NADIA', 'PURBA MEDINIPUR', 'SOUTH 24 PARGANAS',\n",
       "       'SURI', 'BALURGHAT', 'SILIGURI', 'BANKURA', 'DARJEELING',\n",
       "       'JALPAIGURI'], dtype=object)"
      ]
     },
     "execution_count": 26,
     "metadata": {},
     "output_type": "execute_result"
    }
   ],
   "source": [
    "centers['CENT_CITY'].unique()"
   ]
  },
  {
   "cell_type": "code",
   "execution_count": null,
   "id": "6a2024ed",
   "metadata": {},
   "outputs": [],
   "source": []
  },
  {
   "cell_type": "code",
   "execution_count": 5,
   "id": "745e3262-7b52-429d-a97a-d03eeb558790",
   "metadata": {},
   "outputs": [],
   "source": [
    "centers['CENT_STATE'] = centers['CENT_STATE'].apply(lambda x: x.split()[0])\n",
    "centers['CENT_CITY'] = centers['CENT_CITY'].apply(lambda x: x.split()[0])"
   ]
  },
  {
   "cell_type": "code",
   "execution_count": 6,
   "id": "59c024bc-3713-4a62-8734-9c8a9f1978da",
   "metadata": {},
   "outputs": [],
   "source": [
    "result['state'] = result['state'].apply(lambda x: x.split()[0])"
   ]
  },
  {
   "cell_type": "code",
   "execution_count": 1,
   "id": "96fe4741-68c8-41fc-89dd-11b8e5d27775",
   "metadata": {},
   "outputs": [
    {
     "name": "stderr",
     "output_type": "stream",
     "text": [
      "\n",
      "KeyboardInterrupt\n",
      "\n"
     ]
    }
   ],
   "source": [
    "centers.head()"
   ]
  },
  {
   "cell_type": "markdown",
   "id": "fdc8e6c0-2249-4b5b-8df7-9ff392dd80d9",
   "metadata": {},
   "source": [
    "## Centers\n",
    "1. Total Numbers of exam centers\n",
    "2. Total numbers of center in each state\n",
    "3. total numbers of center of each city\n",
    "4. total numbers of exam centers of each city"
   ]
  },
  {
   "cell_type": "code",
   "execution_count": 10,
   "id": "f622b1b3-8562-4995-b50d-b527ef7a63bb",
   "metadata": {},
   "outputs": [
    {
     "name": "stdout",
     "output_type": "stream",
     "text": [
      "Total exam centers 4750\n"
     ]
    }
   ],
   "source": [
    "# 1. Total Numbers of exam centers\n",
    "total_exam_centers = centers['CENT_NAME'].value_counts().sum()\n",
    "print(\"Total exam centers\", total_exam_centers)"
   ]
  },
  {
   "cell_type": "code",
   "execution_count": 20,
   "id": "118bb556-8c93-449b-966f-534bbb387edb",
   "metadata": {},
   "outputs": [
    {
     "data": {
      "image/png": "[encoded data removed]",
      "text/plain": [
       "<Figure size 800x800 with 1 Axes>"
      ]
     },
     "metadata": {},
     "output_type": "display_data"
    }
   ],
   "source": [
    "# 2. Total numbers of center in each state\n",
    "plt.figure(figsize=(8, 8))\n",
    "## specifiy the RGB color (red, green, blue, transparency)\n",
    "color = [0.6, 0.2, 0.8, 0.5]\n",
    "plots = centers['CENT_STATE'].value_counts(ascending=False).head(10).plot(kind='bar', color=color)\n",
    "\n",
    "for bar in plots.patches:\n",
    "    plt.annotate(format(bar.get_height(), '.0f'),\n",
    "                (bar.get_x() + bar.get_width()/2, bar.get_height()),\n",
    "                ha='center', va='center', size=10, xytext=(0, 8),\n",
    "                textcoords='offset points')\n",
    "\n",
    "plt.xlabel('State Name', size=12)\n",
    "plt.ylabel(\"Numbers of exam centers\", size=10)\n",
    "plt.title(\"Total numbers of center in each state\")\n",
    "\n",
    "plt.show()"
   ]
  },
  {
   "cell_type": "code",
   "execution_count": 12,
   "id": "6d2d6071-a5f6-4177-b463-9d9eb74b019a",
   "metadata": {},
   "outputs": [
    {
     "data": {
      "image/png": "[encoded data removed]",
      "text/plain": [
       "<Figure size 800x800 with 1 Axes>"
      ]
     },
     "metadata": {},
     "output_type": "display_data"
    }
   ],
   "source": [
    "# 2. Total numbers of center in each state\n",
    "plt.figure(figsize=(8, 8))\n",
    "## specifiy the RGB color (red, green, blue, transparency)\n",
    "color = [0.6, 0.2, 0.8, 0.5]\n",
    "plots = centers['CENT_CITY'].value_counts(ascending=False).head(10).plot(kind='bar', color=color)\n",
    "\n",
    "for bar in plots.patches:\n",
    "    plt.annotate(format(bar.get_height(), '.0f'),\n",
    "                (bar.get_x() + bar.get_width()/2, bar.get_height()),\n",
    "                ha='center', va='center', size=10, xytext=(0, 8),\n",
    "                textcoords='offset points')\n",
    "\n",
    "plt.xlabel('State Name', size=12)\n",
    "plt.ylabel(\"Numbers of exam centers\", size=10)\n",
    "plt.title(\"Total numbers of center in each state\")\n",
    "\n",
    "plt.show()"
   ]
  },
  {
   "cell_type": "code",
   "execution_count": 11,
   "id": "69d24d44-6434-4a5b-96de-4661e3a91dd6",
   "metadata": {},
   "outputs": [
    {
     "data": {
      "image/png": "[encoded data removed]",
      "text/plain": [
       "<Figure size 800x800 with 1 Axes>"
      ]
     },
     "metadata": {},
     "output_type": "display_data"
    }
   ],
   "source": [
    "# 3. total numbers of center of each city\n",
    "plt.figure(figsize=(8, 8))\n",
    "## specifiy the RGB color (red, green, blue, transparency)\n",
    "color = [0.6, 0.2, 0.8, 0.5]\n",
    "plots = centers[centers['CENT_STATE'] == 'BIHAR']['CENT_CITY'].value_counts(ascending=False).head(10).plot(kind='bar', color=color)\n",
    "\n",
    "for bar in plots.patches:\n",
    "    plt.annotate(format(bar.get_height(), '.0f'),\n",
    "                (bar.get_x() + bar.get_width()/2, bar.get_height()),\n",
    "                ha='center', va='center', size=10, xytext=(0, 8),\n",
    "                textcoords='offset points')\n",
    "\n",
    "plt.xlabel('State Name', size=12)\n",
    "plt.ylabel(\"Numbers of exam centers\", size=10)\n",
    "plt.title(\"Total numbers of center of each city\")\n",
    "\n",
    "plt.show()"
   ]
  },
  {
   "cell_type": "code",
   "execution_count": null,
   "id": "e836b305",
   "metadata": {},
   "outputs": [],
   "source": []
  },
  {
   "cell_type": "code",
   "execution_count": 12,
   "id": "b7f753d4-708f-40f8-9f55-bd2e53a44607",
   "metadata": {},
   "outputs": [
    {
     "data": {
      "image/png": "[encoded data removed]",
      "text/plain": [
       "<Figure size 800x800 with 1 Axes>"
      ]
     },
     "metadata": {},
     "output_type": "display_data"
    }
   ],
   "source": [
    "# 4. Total numbers of exam centers for Bihar states\n",
    "centers[centers['CENT_STATE'] == 'BIHAR']['CENT_CITY'].value_counts(ascending=False).head(10)\n",
    "plt.figure(figsize=(8, 8))\n",
    "## specifiy the RGB color (red, green, blue, transparency)\n",
    "color = [0.6, 0.2, 0.8, 0.5]\n",
    "plots = centers['CENT_CITY'].value_counts(ascending=False).head(10).plot(kind='bar', color=color)\n",
    "\n",
    "for bar in plots.patches:\n",
    "    plt.annotate(format(bar.get_height(), '.0f'),\n",
    "                (bar.get_x() + bar.get_width()/2, bar.get_height()),\n",
    "                ha='center', va='center', size=10, xytext=(0, 8),\n",
    "                textcoords='offset points')\n",
    "\n",
    "plt.xlabel('State Name', size=12)\n",
    "plt.ylabel(\"Numbers of exam centers\", size=10)\n",
    "plt.title(\"Total numbers of center of each city\")\n",
    "\n",
    "plt.show()"
   ]
  },
  {
   "cell_type": "code",
   "execution_count": 14,
   "id": "745dcb3d-852e-4da6-99a3-4c5588372584",
   "metadata": {},
   "outputs": [
    {
     "data": {
      "image/png": "[encoded data removed]",
      "text/plain": [
       "<Figure size 800x800 with 1 Axes>"
      ]
     },
     "metadata": {},
     "output_type": "display_data"
    }
   ],
   "source": [
    "# 3. total numbers of center of MAHARASHTRA city\n",
    "plt.figure(figsize=(8, 8))\n",
    "## specifiy the RGB color (red, green, blue, transparency)\n",
    "color = [0.6, 0.2, 0.8, 0.5]\n",
    "plots = centers[centers['CENT_STATE'] == 'MAHARASHTRA']['CENT_CITY'].value_counts(ascending=False).head(10).plot(kind='bar', color=color)\n",
    "\n",
    "for bar in plots.patches:\n",
    "    plt.annotate(format(bar.get_height(), '.0f'),\n",
    "                (bar.get_x() + bar.get_width()/2, bar.get_height()),\n",
    "                ha='center', va='center', size=10, xytext=(0, 8),\n",
    "                textcoords='offset points')\n",
    "\n",
    "plt.xlabel('City Name', size=12)\n",
    "plt.ylabel(\"Numbers of exam centers\", size=10)\n",
    "plt.title(\"Total numbers of center for city for Maharashtra\")\n",
    "\n",
    "plt.show()"
   ]
  },
  {
   "cell_type": "markdown",
   "id": "2a3cfa45-138b-4c89-834b-3e5219f2219e",
   "metadata": {},
   "source": [
    "# Result\n",
    "1. Total numbers of candidates\n",
    "2. Total numbers of candidates for each city\n",
    "3. Total numbers of candidates for each state\n",
    "4. Total numbers of candidates for sate wise for each city\n",
    "5. max and min score\n",
    "6. best scoring state\n",
    "7. best scoring city\n",
    "8. best scoring city by state\n",
    "9. best score by each centers\n",
    "10. best score by centers by city\n",
    "11. best score by center by state\n",
    "12. best score by center for state of each city"
   ]
  },
  {
   "cell_type": "code",
   "execution_count": 16,
   "id": "432e1b09-0462-44a1-95e0-2677f2b9a666",
   "metadata": {},
   "outputs": [],
   "source": [
    "result['city'] = result['city'].apply(lambda x : x.split('/')[0])"
   ]
  },
  {
   "cell_type": "code",
   "execution_count": 17,
   "id": "134e1367-02fe-4648-8a88-f78b7c12b2cf",
   "metadata": {},
   "outputs": [
    {
     "name": "stdout",
     "output_type": "stream",
     "text": [
      "Total Candidates 2333120\n"
     ]
    }
   ],
   "source": [
    "## 1. Total numbers of candidates\n",
    "total_candidate = result.shape[0]\n",
    "print(f\"Total Candidates\", total_candidate)"
   ]
  },
  {
   "cell_type": "code",
   "execution_count": 18,
   "id": "b008edef-67b3-465e-a585-80c2b2d78412",
   "metadata": {},
   "outputs": [
    {
     "data": {
      "text/html": [
       "<div>\n",
       "<style scoped>\n",
       "    .dataframe tbody tr th:only-of-type {\n",
       "        vertical-align: middle;\n",
       "    }\n",
       "\n",
       "    .dataframe tbody tr th {\n",
       "        vertical-align: top;\n",
       "    }\n",
       "\n",
       "    .dataframe thead th {\n",
       "        text-align: right;\n",
       "    }\n",
       "</style>\n",
       "<table border=\"1\" class=\"dataframe\">\n",
       "  <thead>\n",
       "    <tr style=\"text-align: right;\">\n",
       "      <th></th>\n",
       "      <th>dummy_srlno</th>\n",
       "      <th>marks</th>\n",
       "      <th>state</th>\n",
       "      <th>city</th>\n",
       "      <th>center_name</th>\n",
       "      <th>center_number</th>\n",
       "    </tr>\n",
       "  </thead>\n",
       "  <tbody>\n",
       "    <tr>\n",
       "      <th>0</th>\n",
       "      <td>1101010001</td>\n",
       "      <td>46</td>\n",
       "      <td>ANDAMAN</td>\n",
       "      <td>PORT BLAIR</td>\n",
       "      <td>KENDRIYA VIDYALAYA NO. 1</td>\n",
       "      <td>110101</td>\n",
       "    </tr>\n",
       "    <tr>\n",
       "      <th>1</th>\n",
       "      <td>1101010002</td>\n",
       "      <td>226</td>\n",
       "      <td>ANDAMAN</td>\n",
       "      <td>PORT BLAIR</td>\n",
       "      <td>KENDRIYA VIDYALAYA NO. 1</td>\n",
       "      <td>110101</td>\n",
       "    </tr>\n",
       "    <tr>\n",
       "      <th>2</th>\n",
       "      <td>1101010003</td>\n",
       "      <td>449</td>\n",
       "      <td>ANDAMAN</td>\n",
       "      <td>PORT BLAIR</td>\n",
       "      <td>KENDRIYA VIDYALAYA NO. 1</td>\n",
       "      <td>110101</td>\n",
       "    </tr>\n",
       "    <tr>\n",
       "      <th>3</th>\n",
       "      <td>1101010004</td>\n",
       "      <td>424</td>\n",
       "      <td>ANDAMAN</td>\n",
       "      <td>PORT BLAIR</td>\n",
       "      <td>KENDRIYA VIDYALAYA NO. 1</td>\n",
       "      <td>110101</td>\n",
       "    </tr>\n",
       "    <tr>\n",
       "      <th>4</th>\n",
       "      <td>1101010005</td>\n",
       "      <td>222</td>\n",
       "      <td>ANDAMAN</td>\n",
       "      <td>PORT BLAIR</td>\n",
       "      <td>KENDRIYA VIDYALAYA NO. 1</td>\n",
       "      <td>110101</td>\n",
       "    </tr>\n",
       "  </tbody>\n",
       "</table>\n",
       "</div>"
      ],
      "text/plain": [
       "   dummy_srlno  marks    state        city               center_name  \\\n",
       "0   1101010001     46  ANDAMAN  PORT BLAIR  KENDRIYA VIDYALAYA NO. 1   \n",
       "1   1101010002    226  ANDAMAN  PORT BLAIR  KENDRIYA VIDYALAYA NO. 1   \n",
       "2   1101010003    449  ANDAMAN  PORT BLAIR  KENDRIYA VIDYALAYA NO. 1   \n",
       "3   1101010004    424  ANDAMAN  PORT BLAIR  KENDRIYA VIDYALAYA NO. 1   \n",
       "4   1101010005    222  ANDAMAN  PORT BLAIR  KENDRIYA VIDYALAYA NO. 1   \n",
       "\n",
       "   center_number  \n",
       "0         110101  \n",
       "1         110101  \n",
       "2         110101  \n",
       "3         110101  \n",
       "4         110101  "
      ]
     },
     "execution_count": 18,
     "metadata": {},
     "output_type": "execute_result"
    }
   ],
   "source": [
    "result.head()"
   ]
  },
  {
   "cell_type": "code",
   "execution_count": 19,
   "id": "dc0899fb-2325-4bbf-9480-7cd9af8fa97c",
   "metadata": {},
   "outputs": [
    {
     "data": {
      "image/png": "[encoded data removed]",
      "text/plain": [
       "<Figure size 800x800 with 1 Axes>"
      ]
     },
     "metadata": {},
     "output_type": "display_data"
    }
   ],
   "source": [
    "# Total numbers of candidates for each city\n",
    "plt.figure(figsize=(8, 8))\n",
    "## specifiy the RGB color (red, green, blue, transparency)\n",
    "color = [0.6, 0.2, 0.8, 0.5]\n",
    "plots = result['city'].value_counts(ascending=False).head(10).plot(kind='bar', color=color)\n",
    "\n",
    "for bar in plots.patches:\n",
    "    plt.annotate(format(bar.get_height(), '.0f'),\n",
    "                (bar.get_x() + bar.get_width()/2, bar.get_height()),\n",
    "                ha='center', va='center', size=10, xytext=(0, 8),\n",
    "                textcoords='offset points')\n",
    "\n",
    "plt.xlabel('City Name', size=12)\n",
    "plt.ylabel(\"Numbers of exam centers\", size=10)\n",
    "plt.title(\"Total numbers of candidates for each city\")\n",
    "\n",
    "plt.show()\n"
   ]
  },
  {
   "cell_type": "code",
   "execution_count": 20,
   "id": "1a05ac5e-8fd5-4975-82b2-5a2ac9c00b57",
   "metadata": {},
   "outputs": [
    {
     "data": {
      "text/plain": [
       "city\n",
       "DELHI               66090\n",
       "JAIPUR              55124\n",
       "PATNA               48643\n",
       "LUCKNOW             34238\n",
       "INDORE              29245\n",
       "BENGALURU- URBAN    29125\n",
       "HYDERABAD           28455\n",
       "MUMBAI              27560\n",
       "SIKAR               27216\n",
       "KOTA                27118\n",
       "Name: count, dtype: int64"
      ]
     },
     "execution_count": 20,
     "metadata": {},
     "output_type": "execute_result"
    }
   ],
   "source": [
    "# Total numbers of candidates for each state\n",
    "result['city'].value_counts(ascending=False).head(10)"
   ]
  },
  {
   "cell_type": "code",
   "execution_count": 21,
   "id": "8821115c-6850-40d5-b7cd-86e895014ba5",
   "metadata": {},
   "outputs": [
    {
     "data": {
      "text/plain": [
       "city\n",
       "PATNA          48643\n",
       "DARBHANGA       7403\n",
       "MUZAFFARPUR     7157\n",
       "GAYA            5913\n",
       "SIWAN           5226\n",
       "MOTIHARI        5116\n",
       "BHAGALPUR       5071\n",
       "BETTIAH         3767\n",
       "SAMASTIPUR      3757\n",
       "PURNEA          3743\n",
       "Name: count, dtype: int64"
      ]
     },
     "execution_count": 21,
     "metadata": {},
     "output_type": "execute_result"
    }
   ],
   "source": [
    "# Total numbers of candidates for sate wise for each city\n",
    "result[result['state'] == 'BIHAR']['city'].value_counts(ascending=False).head(10)"
   ]
  },
  {
   "cell_type": "code",
   "execution_count": 22,
   "id": "dbada1c8-8e98-49fa-9d26-5d7a67396e85",
   "metadata": {},
   "outputs": [
    {
     "name": "stdout",
     "output_type": "stream",
     "text": [
      "Minimun Marks -180\n",
      "Maximum Marks 720\n"
     ]
    }
   ],
   "source": [
    "# max and min score\n",
    "min = result['marks'].min()\n",
    "max = result['marks'].max()\n",
    "print(\"Minimun Marks\", min)\n",
    "print(\"Maximum Marks\", max)"
   ]
  },
  {
   "cell_type": "code",
   "execution_count": null,
   "id": "35321853-f4c9-4ecd-9c9f-7505284349e3",
   "metadata": {},
   "outputs": [],
   "source": [
    "# best scoring state\n",
    "result.groupby('state')"
   ]
  },
  {
   "cell_type": "code",
   "execution_count": null,
   "id": "237b284a-90fb-49d5-9dcf-7e8aac9ffcd2",
   "metadata": {},
   "outputs": [],
   "source": [
    "# best scoring city"
   ]
  },
  {
   "cell_type": "code",
   "execution_count": null,
   "id": "5141a81b-7abb-4569-a05d-b96c05dc7d4c",
   "metadata": {},
   "outputs": [],
   "source": [
    "# best scoring city by state"
   ]
  },
  {
   "cell_type": "code",
   "execution_count": null,
   "id": "bd97a3e2-68e3-4aea-a152-dff2690a8fa7",
   "metadata": {},
   "outputs": [],
   "source": [
    "# best score by each centers"
   ]
  },
  {
   "cell_type": "code",
   "execution_count": null,
   "id": "c41c9644-4b6a-4c1d-b3c5-d70f8d3b0b4f",
   "metadata": {},
   "outputs": [],
   "source": [
    "# best score by centers by city"
   ]
  },
  {
   "cell_type": "code",
   "execution_count": null,
   "id": "37cb08f7-280d-4296-bb78-c20ac66ec4a7",
   "metadata": {},
   "outputs": [],
   "source": [
    "# best score by center by state"
   ]
  },
  {
   "cell_type": "code",
   "execution_count": null,
   "id": "19f8b4bf-f148-445b-95e4-3be7bfeb48a9",
   "metadata": {},
   "outputs": [],
   "source": [
    "# best score by center for state of each city"
   ]
  },
  {
   "cell_type": "code",
   "execution_count": null,
   "id": "551bdd50-2cf5-4391-88bb-fe75c86e2bed",
   "metadata": {},
   "outputs": [],
   "source": []
  },
  {
   "cell_type": "code",
   "execution_count": null,
   "id": "61ca4d20-cfe0-4453-bfdf-ffdf246681e0",
   "metadata": {},
   "outputs": [],
   "source": []
  },
  {
   "cell_type": "code",
   "execution_count": null,
   "id": "13980a0d-5a36-4e1b-a44c-3ff4ae14da46",
   "metadata": {},
   "outputs": [],
   "source": []
  },
  {
   "cell_type": "code",
   "execution_count": null,
   "id": "d12f330c-d318-4d7a-a8f6-d174420fe482",
   "metadata": {},
   "outputs": [],
   "source": []
  },
  {
   "cell_type": "code",
   "execution_count": null,
   "id": "81afba95-ef3f-4bbc-bca0-8fa4382a9a55",
   "metadata": {},
   "outputs": [],
   "source": []
  },
  {
   "cell_type": "code",
   "execution_count": null,
   "id": "61442350-83ef-4fcf-888c-6c509048a930",
   "metadata": {},
   "outputs": [],
   "source": []
  },
  {
   "cell_type": "code",
   "execution_count": null,
   "id": "b3d32a04-ba9a-4985-83eb-f7400b02a72f",
   "metadata": {},
   "outputs": [],
   "source": []
  },
  {
   "cell_type": "code",
   "execution_count": null,
   "id": "7e78cf16-ff3e-4bbb-b4bf-37391aed2d0e",
   "metadata": {},
   "outputs": [],
   "source": []
  },
  {
   "cell_type": "code",
   "execution_count": null,
   "id": "37e50771-9c94-4653-ae94-daa0d5a7e6b0",
   "metadata": {},
   "outputs": [],
   "source": []
  },
  {
   "cell_type": "code",
   "execution_count": null,
   "id": "7c6811b5-2759-4d24-b2e1-3bc4dc09e579",
   "metadata": {},
   "outputs": [],
   "source": []
  },
  {
   "cell_type": "code",
   "execution_count": null,
   "id": "80292878-e5e5-433b-b2c5-db1ec62ff88c",
   "metadata": {},
   "outputs": [],
   "source": []
  },
  {
   "cell_type": "code",
   "execution_count": null,
   "id": "42fa1d6d-c1f6-4b22-b90f-78625970c176",
   "metadata": {},
   "outputs": [],
   "source": []
  },
  {
   "cell_type": "code",
   "execution_count": null,
   "id": "14d4b474-b059-4851-bc5d-ddc1e5170358",
   "metadata": {},
   "outputs": [],
   "source": []
  },
  {
   "cell_type": "code",
   "execution_count": null,
   "id": "ad43bdd8-4d03-4ec3-8dfc-cebe13490a00",
   "metadata": {},
   "outputs": [],
   "source": []
  },
  {
   "cell_type": "code",
   "execution_count": null,
   "id": "f4d8dbc5-28a3-41df-bdce-c4098b4117bd",
   "metadata": {},
   "outputs": [],
   "source": []
  },
  {
   "cell_type": "code",
   "execution_count": null,
   "id": "7e87a778-eb01-44ce-a61f-25a345f55689",
   "metadata": {},
   "outputs": [],
   "source": []
  },
  {
   "cell_type": "code",
   "execution_count": null,
   "id": "47359d29-35ee-46cb-b017-f3deefa8109f",
   "metadata": {},
   "outputs": [],
   "source": []
  },
  {
   "cell_type": "code",
   "execution_count": null,
   "id": "6ce2ebde-4068-4289-9ef6-f32581033594",
   "metadata": {},
   "outputs": [],
   "source": [
    "total_centers = centers['CENT_CITY'].count()\n",
    "print(\"Ttoal exam centers\", total_centers)"
   ]
  },
  {
   "cell_type": "code",
   "execution_count": null,
   "id": "16abbdd9-afc6-433a-a4db-0157e0f019f5",
   "metadata": {},
   "outputs": [],
   "source": [
    "df = pd.merge(left=centers, right=result, left_on='CENTNO', right_on='center_number', how='right')\n",
    "df.head()"
   ]
  },
  {
   "cell_type": "code",
   "execution_count": null,
   "id": "1767b9c6-ef8e-46fd-9c0d-47ec5781a929",
   "metadata": {},
   "outputs": [],
   "source": [
    "df['CENT_CITY'].value_counts(ascending=False).head(20)"
   ]
  },
  {
   "cell_type": "code",
   "execution_count": null,
   "id": "0ddcac5f-1e00-4a15-89d9-08f902b45c94",
   "metadata": {},
   "outputs": [],
   "source": []
  },
  {
   "cell_type": "code",
   "execution_count": null,
   "id": "7c7856a1-3a17-4086-9eba-095c1c3d52ac",
   "metadata": {},
   "outputs": [],
   "source": []
  },
  {
   "cell_type": "code",
   "execution_count": null,
   "id": "ea85769b-cab2-47c6-b40b-84991c31167a",
   "metadata": {},
   "outputs": [],
   "source": []
  },
  {
   "cell_type": "code",
   "execution_count": null,
   "id": "3d466ab7-5907-4f93-89d3-3c4f16445e71",
   "metadata": {},
   "outputs": [],
   "source": [
    "result.shape"
   ]
  },
  {
   "cell_type": "code",
   "execution_count": null,
   "id": "b8658af1-addf-42f9-a0fa-5650115bccde",
   "metadata": {},
   "outputs": [],
   "source": [
    "centers.shape"
   ]
  },
  {
   "cell_type": "code",
   "execution_count": null,
   "id": "3479d248-1500-435d-bce1-d6a1f06a85af",
   "metadata": {},
   "outputs": [],
   "source": []
  },
  {
   "cell_type": "code",
   "execution_count": null,
   "id": "9882aa8d-8f4c-4d8a-8eb8-19b9a5e87b19",
   "metadata": {},
   "outputs": [],
   "source": []
  },
  {
   "cell_type": "code",
   "execution_count": null,
   "id": "ad206a44-afb2-4cc8-86d3-9485061e38c0",
   "metadata": {},
   "outputs": [],
   "source": []
  },
  {
   "cell_type": "markdown",
   "id": "9879226f-5db1-4661-a17f-593eb1d9db35",
   "metadata": {},
   "source": [
    "# Centers Analysis"
   ]
  },
  {
   "cell_type": "code",
   "execution_count": null,
   "id": "2cd1bc14-630d-4308-b8e4-5f2d6ba18ced",
   "metadata": {},
   "outputs": [],
   "source": [
    "centers.head()"
   ]
  },
  {
   "cell_type": "code",
   "execution_count": null,
   "id": "43330734-656b-4c65-9a1c-aad1e06d88aa",
   "metadata": {},
   "outputs": [],
   "source": [
    "centers.info()"
   ]
  },
  {
   "cell_type": "code",
   "execution_count": null,
   "id": "98455f83-db7f-4c15-bb4c-1a32bf2a3846",
   "metadata": {},
   "outputs": [],
   "source": [
    "centers.describe()"
   ]
  },
  {
   "cell_type": "code",
   "execution_count": null,
   "id": "f9303dae-7f1e-4dbb-915c-fcdf4ae8a52f",
   "metadata": {},
   "outputs": [],
   "source": [
    "## top 10 neet exam conductig stats\n",
    "centers['CENT_STATE'].value_counts(ascending=False).head(10)"
   ]
  },
  {
   "cell_type": "code",
   "execution_count": null,
   "id": "64a541e6-7c18-468c-ab48-4c5aa1e80c03",
   "metadata": {},
   "outputs": [],
   "source": [
    "## top 10 neet exam conductig stats\n",
    "centers['CENT_STATE'].value_counts(ascending=False).head(10).plot(kind='bar')\n",
    "plt.title(\"Top 10 States for Exam Conducting\")\n",
    "plt.ylabel(\"Numbers of Exam centers\")\n",
    "plt.xlabel(\"Exam Conductiong States\")\n",
    "plt.xticks(rotation=(30))\n",
    "plt.show()"
   ]
  },
  {
   "cell_type": "code",
   "execution_count": null,
   "id": "51571281-dec8-431d-8bd5-d582c81b4420",
   "metadata": {},
   "outputs": [],
   "source": [
    "## Top 15 cities for exam conducting\n",
    "plots = centers['CENT_CITY'].value_counts(ascending=False).head(10).plot(kind='bar')\n",
    "\n",
    "for bar in plots.patches:\n",
    "    plt.annotate(format(bar.get_height(), '.0f'),\n",
    "                (bar.get_x() + bar.get_width()/2, bar.get_height()),\n",
    "                ha='center', va='center', size=10, xytext=(0, 8),\n",
    "                textcoords='offset points')\n",
    "    \n",
    "plt.title(\"Top 15 Cities for Exam Conducting\")\n",
    "plt.ylabel(\"Numbers of Exam centers\")\n",
    "plt.xlabel(\"Exam Conductiong Cities\")\n",
    "plt.xticks(rotation=(-40))\n",
    "plt.show()"
   ]
  },
  {
   "cell_type": "code",
   "execution_count": null,
   "id": "3e1f7284-2612-49f5-a37b-9e8ee254e590",
   "metadata": {},
   "outputs": [],
   "source": [
    "centers['CENT_CITY'].value_counts(ascending=False).head(15)"
   ]
  },
  {
   "cell_type": "code",
   "execution_count": null,
   "id": "8163dea2-3d57-43b3-96b6-9b0e05831040",
   "metadata": {},
   "outputs": [],
   "source": [
    "centers.groupby('CENT_STATE').count()['CENT_NAME'].sort_values(ascending=False)"
   ]
  },
  {
   "cell_type": "code",
   "execution_count": null,
   "id": "a07d7fdd-f623-4547-974e-35d5d7f578e2",
   "metadata": {},
   "outputs": [],
   "source": [
    "for state in centers['CENT_STATE'].unique():\n",
    "    print(state)"
   ]
  },
  {
   "cell_type": "code",
   "execution_count": null,
   "id": "903f8e12-aa91-4c49-af49-5f4e94b8fb46",
   "metadata": {},
   "outputs": [],
   "source": [
    "centers[centers['CENT_STATE'] == 'BIHAR']['CENT_CITY'].value_counts().head(10)"
   ]
  },
  {
   "cell_type": "code",
   "execution_count": null,
   "id": "30cbeee2-d22b-4030-b540-311ae168bb57",
   "metadata": {},
   "outputs": [],
   "source": [
    "centers[centers['CENT_STATE'] == 'BIHAR'].groupby('CENT_CITY').count()['CENT_NAME'].sort_values(ascending=False).head(10)"
   ]
  },
  {
   "cell_type": "code",
   "execution_count": null,
   "id": "f39c09cd-43d2-46c9-a96d-25b098540dc1",
   "metadata": {},
   "outputs": [],
   "source": [
    "states = centers['CENT_STATE'].value_counts().index"
   ]
  },
  {
   "cell_type": "code",
   "execution_count": null,
   "id": "15e113ed-6295-45d5-a571-0913b14b29e5",
   "metadata": {},
   "outputs": [],
   "source": [
    "cities = centers['CENT_CITY'].value_counts().index"
   ]
  },
  {
   "cell_type": "code",
   "execution_count": null,
   "id": "cee7f865-6d0a-4607-94a1-3ac14a4695a9",
   "metadata": {},
   "outputs": [],
   "source": [
    "centers"
   ]
  },
  {
   "cell_type": "code",
   "execution_count": null,
   "id": "3a42ac9f-a426-4c7b-9499-ab6f9eaf8031",
   "metadata": {},
   "outputs": [],
   "source": [
    "centers['CENT_CITY'].value_counts(ascending=False).head(15).plot(kind='bar')\n",
    "plt.title(\"Top 15 Cities for Exam Conducting\")\n",
    "plt.ylabel(\"Numbers of Exam centers\")\n",
    "plt.xlabel(\"Exam Conductiong Cities\")\n",
    "plt.xticks(rotation=(-40))\n",
    "plt.show()"
   ]
  },
  {
   "cell_type": "code",
   "execution_count": null,
   "id": "d88a32eb-e3b9-4bc5-b1fe-c5df6a56056c",
   "metadata": {},
   "outputs": [],
   "source": [
    "centers[centers['CENT_STATE'] == 'BIHAR']['CENT_CITY'].value_counts().head(20).plot(kind='bar')\n",
    "plt.title(\"Top 20 Cities for Exam Conducting city in Bihar\")\n",
    "plt.ylabel(\"Numbers of Exam centers\")\n",
    "plt.xlabel(\"Exam Conductiong Cities\")\n",
    "plt.show()"
   ]
  },
  {
   "cell_type": "code",
   "execution_count": null,
   "id": "7e134fc3-31e3-43f1-9cc1-12446e74aa2a",
   "metadata": {},
   "outputs": [],
   "source": [
    "## total numbers of exam centers for each state\n",
    "centers[centers['CENT_STATE'] == 'MAHARASHTRA']['CENT_CITY'].value_counts().head(20).plot(kind='bar')\n",
    "plt.title(\"Top 15 Cities for Exam Conducting in Maharastra\")\n",
    "plt.ylabel(\"Numbers of Exam centers\")\n",
    "plt.xlabel(\"Exam Conductiong Cities\")\n",
    "plt.show()"
   ]
  },
  {
   "cell_type": "code",
   "execution_count": null,
   "id": "2c51efb0-a0b7-41f4-8822-bc7a83a9e2a6",
   "metadata": {},
   "outputs": [],
   "source": []
  },
  {
   "cell_type": "markdown",
   "id": "b49ea5c3-309e-4895-904c-8e5302754d4d",
   "metadata": {},
   "source": [
    "## Result Analysis"
   ]
  },
  {
   "cell_type": "code",
   "execution_count": null,
   "id": "5a6866e0-d989-48fd-813b-d3af2a7efe79",
   "metadata": {},
   "outputs": [],
   "source": [
    "result.head()"
   ]
  },
  {
   "cell_type": "code",
   "execution_count": null,
   "id": "8f39d3bd-951f-4d7b-a2d6-4ce5fa18b47e",
   "metadata": {},
   "outputs": [],
   "source": [
    "result['state_name'] = result['state'].apply(lambda x: x.split()[0])"
   ]
  },
  {
   "cell_type": "code",
   "execution_count": null,
   "id": "312b4488-b080-4766-9330-343aec158516",
   "metadata": {},
   "outputs": [],
   "source": [
    "result.drop(columns='state', inplace=True)"
   ]
  },
  {
   "cell_type": "code",
   "execution_count": null,
   "id": "b5671051-fa57-490c-9ed7-a60b28d85944",
   "metadata": {},
   "outputs": [],
   "source": [
    "result"
   ]
  },
  {
   "cell_type": "code",
   "execution_count": null,
   "id": "880943b5-3634-428e-b391-fcad8e95adfb",
   "metadata": {},
   "outputs": [],
   "source": [
    "## total particapeted for exam in NEET\n",
    "total_candidates = result['state_name'].value_counts().sum()\n",
    "print(f\"Total Number of Candidates: {total_candidates}\")"
   ]
  },
  {
   "cell_type": "code",
   "execution_count": null,
   "id": "dae4fdab-41e9-4d25-b600-1f77f6286ffb",
   "metadata": {},
   "outputs": [],
   "source": [
    "## number of totol candidates of each states\n",
    "result['state_name'].value_counts(ascending=False).head(15)"
   ]
  },
  {
   "cell_type": "code",
   "execution_count": null,
   "id": "18c8d4a0-10cf-424a-bdf7-883db194b12d",
   "metadata": {},
   "outputs": [],
   "source": [
    "result['state_name'].value_counts(ascending=False).head(15).plot(kind='bar')\n",
    "plt.title(\"Top 10 states participate for NEET exam\")\n",
    "plt.xlabel(\"Satet Name\")\n",
    "plt.ylabel(\"Total Numbers of Candidates\")\n",
    "plt.xticks(rotation=50)\n",
    "plt.show()"
   ]
  },
  {
   "cell_type": "code",
   "execution_count": null,
   "id": "eb7b7da5-f31f-4def-8b34-bd786e9b4d57",
   "metadata": {},
   "outputs": [],
   "source": [
    "## number of totol candidates of each states\n",
    "result['state_name'].value_counts(ascending=False).tail(15)"
   ]
  },
  {
   "cell_type": "code",
   "execution_count": null,
   "id": "cb2e4152-df59-482e-b4bc-93f1ebe104cd",
   "metadata": {},
   "outputs": [],
   "source": [
    "## number of totol candidates of each states\n",
    "result['state_name'].value_counts(ascending=False).tail(15).plot(kind='bar')\n",
    "plt.title(\"bottom 10 states participate for NEET exam\")\n",
    "plt.xlabel(\"Satet Name\")\n",
    "plt.ylabel(\"Total Numbers of Candidates\")\n",
    "# plt.xticks(rotation=50)\n",
    "plt.show()"
   ]
  },
  {
   "cell_type": "code",
   "execution_count": null,
   "id": "0c31db25-a659-43c2-ab7d-fc75a407588a",
   "metadata": {},
   "outputs": [],
   "source": [
    "result"
   ]
  },
  {
   "cell_type": "code",
   "execution_count": null,
   "id": "eec4d46b-6ec1-49c1-8856-fbe6210c06be",
   "metadata": {},
   "outputs": [],
   "source": [
    "result.head()"
   ]
  },
  {
   "cell_type": "code",
   "execution_count": null,
   "id": "9133cf1d-65d5-4cfc-ab37-6da4d78ac2a7",
   "metadata": {},
   "outputs": [],
   "source": [
    "## top 10 city\n",
    "## top 10 state\n",
    "## most exam conducting exam center\n",
    "## top 10 best scorer exam center\n",
    "## top 10 best scorer stare\n",
    "## top 10 best scorer city\n",
    "## top 10 exam conducting exam center\n",
    "## top 10 exam conducting exam center state wise\n",
    "## top 10 exam conducting exam center city wise\n",
    "## highest score and lowest score"
   ]
  },
  {
   "cell_type": "code",
   "execution_count": null,
   "id": "1c2bb8c5-20e1-4f52-bc7e-716ae7f3043d",
   "metadata": {},
   "outputs": [],
   "source": [
    "result['city'].value_counts(ascending=False).head(20).plot(kind='bar')\n",
    "plt.title(\"Top 20 \")\n",
    "plt.show()"
   ]
  },
  {
   "cell_type": "code",
   "execution_count": null,
   "id": "4e85cca2-f1ba-4cd4-ba6b-629040c656e5",
   "metadata": {},
   "outputs": [],
   "source": []
  },
  {
   "cell_type": "code",
   "execution_count": null,
   "id": "9c3435bd-fd6c-45e7-a4ca-5e084f6a2c2a",
   "metadata": {},
   "outputs": [],
   "source": []
  }
 ],
 "metadata": {
  "kernelspec": {
   "display_name": "Python 3 (ipykernel)",
   "language": "python",
   "name": "python3"
  },
  "language_info": {
   "codemirror_mode": {
    "name": "ipython",
    "version": 3
   },
   "file_extension": ".py",
   "mimetype": "text/x-python",
   "name": "python",
   "nbconvert_exporter": "python",
   "pygments_lexer": "ipython3",
   "version": "3.11.5"
  }
 },
 "nbformat": 4,
 "nbformat_minor": 5
}
